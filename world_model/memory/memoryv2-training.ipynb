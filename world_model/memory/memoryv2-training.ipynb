{
 "cells": [
  {
   "cell_type": "code",
   "execution_count": 1,
   "id": "related-crawford",
   "metadata": {},
   "outputs": [],
   "source": [
    "import os\n",
    "import sys\n",
    "module_path = os.path.abspath(os.path.join('..'))\n",
    "if module_path not in sys.path:\n",
    "    sys.path.append(module_path)\n",
    "    \n",
    "from vision.vAE import VAE\n",
    "from memory_v2 import Memory\n",
    "import numpy as np\n",
    "import tensorflow as tf"
   ]
  },
  {
   "cell_type": "markdown",
   "id": "elder-forward",
   "metadata": {},
   "source": [
    "### Understanding **tf.element_spec**"
   ]
  },
  {
   "cell_type": "code",
   "execution_count": 2,
   "id": "clinical-eugene",
   "metadata": {},
   "outputs": [
    {
     "data": {
      "text/plain": [
       "(TensorSpec(shape=(35,), dtype=tf.float32, name=None),\n",
       " TensorSpec(shape=(32,), dtype=tf.float32, name=None))"
      ]
     },
     "execution_count": 2,
     "metadata": {},
     "output_type": "execute_result"
    }
   ],
   "source": [
    "dummy = tf.data.Dataset.from_tensor_slices(\n",
    "    (np.zeros(999*35).reshape(999,35).astype(np.float32), np.zeros(999*32).reshape(999,32).astype(np.float32))\n",
    ")\n",
    "dummy.element_spec"
   ]
  },
  {
   "cell_type": "code",
   "execution_count": 3,
   "id": "interracial-literacy",
   "metadata": {},
   "outputs": [],
   "source": [
    "t_spec = dummy.element_spec"
   ]
  },
  {
   "cell_type": "code",
   "execution_count": 4,
   "id": "frank-shoot",
   "metadata": {},
   "outputs": [
    {
     "data": {
      "text/plain": [
       "<_LoadDataset shapes: ((999, 35), (999, 32)), types: (tf.float32, tf.float32)>"
      ]
     },
     "execution_count": 4,
     "metadata": {},
     "output_type": "execute_result"
    }
   ],
   "source": [
    "ds = tf.data.experimental.load(\n",
    "    os.getcwd() + '/saved_data/z_vae160',\n",
    "    compression='GZIP',\n",
    "    element_spec=(tf.TensorSpec(shape=(999, 35), dtype=tf.float32), tf.TensorSpec(shape=(999, 32), dtype=tf.float32))\n",
    ")\n",
    "ds"
   ]
  },
  {
   "cell_type": "code",
   "execution_count": 5,
   "id": "invisible-script",
   "metadata": {},
   "outputs": [],
   "source": [
    "ds = ds.shuffle(1).batch(4).prefetch(tf.data.experimental.AUTOTUNE)"
   ]
  },
  {
   "cell_type": "code",
   "execution_count": 6,
   "id": "concerned-blanket",
   "metadata": {},
   "outputs": [
    {
     "data": {
      "text/plain": [
       "63"
      ]
     },
     "execution_count": 6,
     "metadata": {},
     "output_type": "execute_result"
    }
   ],
   "source": [
    "len(ds)"
   ]
  },
  {
   "cell_type": "code",
   "execution_count": 7,
   "id": "central-devil",
   "metadata": {},
   "outputs": [],
   "source": [
    "ds = ds.map(lambda x, y: (tf.cast(x, tf.float64), tf.cast(y, tf.float64)))"
   ]
  },
  {
   "cell_type": "code",
   "execution_count": 8,
   "id": "alpha-strength",
   "metadata": {},
   "outputs": [],
   "source": [
    "import time\n",
    "\n",
    "def train(model, data, epochs):\n",
    "    epoch_losses = []\n",
    "    for e in range(epochs):\n",
    "        t = time.time()\n",
    "        batch_losses = []\n",
    "        data = data.shuffle(1)\n",
    "        \n",
    "        for (x, y) in data.take(20):\n",
    "            state = model.get_zero_hidden_state(x)\n",
    "            batch_losses.append(model.train_op(x, y, state))\n",
    "            \n",
    "        epoch_losses.append(np.mean(batch_losses))\n",
    "        print(f\"Epoch: {e} done - Loss: {epoch_losses[-1]} - Time: {time.time()-t}\")\n",
    "        \n",
    "    #model.save(os.getcwd() + '/160model_v2')\n",
    "        \n",
    "    return batch_losses"
   ]
  },
  {
   "cell_type": "code",
   "execution_count": 9,
   "id": "sustained-growth",
   "metadata": {},
   "outputs": [],
   "source": [
    "mem = Memory()\n",
    "loss = []"
   ]
  },
  {
   "cell_type": "code",
   "execution_count": 11,
   "id": "resident-tunisia",
   "metadata": {},
   "outputs": [
    {
     "name": "stdout",
     "output_type": "stream",
     "text": [
      "Epoch: 0 done - Loss: 37.09749748335051 - Time: 378.0763189792633\n"
     ]
    }
   ],
   "source": [
    "loss.append(train(mem, ds, 1))"
   ]
  },
  {
   "cell_type": "markdown",
   "id": "moved-april",
   "metadata": {},
   "source": [
    "## Visualizing performance"
   ]
  },
  {
   "cell_type": "code",
   "execution_count": 12,
   "id": "waiting-richardson",
   "metadata": {},
   "outputs": [],
   "source": [
    "import matplotlib.pyplot as plt"
   ]
  },
  {
   "cell_type": "code",
   "execution_count": 14,
   "id": "aboriginal-covering",
   "metadata": {},
   "outputs": [
    {
     "name": "stdout",
     "output_type": "stream",
     "text": [
      "loading model from /Users/floyd/Documents/Studium/Coxi6/DRL/World-Model-CarRacing-with-PPO/world_model/vision/models\n"
     ]
    }
   ],
   "source": [
    "vision = VAE(results_dir=os.getcwd()[:-6] + 'vision', load_model=True)"
   ]
  },
  {
   "cell_type": "code",
   "execution_count": 33,
   "id": "empirical-arlington",
   "metadata": {},
   "outputs": [],
   "source": [
    "def dream(memory, n=2):\n",
    "    fig, ax = plt.subplots(ncols=2, nrows=n)\n",
    "\n",
    "    for i, (x, y) in enumerate(ds.take(n)):\n",
    "        \n",
    "        x = x.numpy()\n",
    "        \n",
    "        state = memory.get_zero_hidden_state(x)\n",
    "        mix_params, _, _ = memory(x, state)\n",
    "        pred = memory.get_y_pred(mix_params)\n",
    "        \n",
    "        ax[i, 0].imshow(tf.squeeze(vision.decoder(pred[0,0])))\n",
    "        ax[i, 0].set_title(\"Dream\")\n",
    "        ax[i, 0].axis(\"off\")\n",
    "        \n",
    "        ax[i, 1].imshow(tf.squeeze(vision.decoder(y.numpy()[0,0].reshape(1,32))))\n",
    "        ax[i, 1].set_title(\"Truth\")\n",
    "        ax[i, 1].axis(\"off\")\n",
    "\n",
    "    plt.show()"
   ]
  },
  {
   "cell_type": "code",
   "execution_count": 35,
   "id": "unlimited-gender",
   "metadata": {},
   "outputs": [
    {
     "data": {
      "image/png": "[encoded data removed]",
      "text/plain": [
       "<Figure size 432x288 with 4 Axes>"
      ]
     },
     "metadata": {
      "needs_background": "light"
     },
     "output_type": "display_data"
    }
   ],
   "source": [
    "dream(mem)"
   ]
  },
  {
   "cell_type": "code",
   "execution_count": null,
   "id": "literary-signature",
   "metadata": {},
   "outputs": [],
   "source": []
  }
 ],
 "metadata": {
  "kernelspec": {
   "display_name": "Python 3",
   "language": "python",
   "name": "python3"
  },
  "language_info": {
   "codemirror_mode": {
    "name": "ipython",
    "version": 3
   },
   "file_extension": ".py",
   "mimetype": "text/x-python",
   "name": "python",
   "nbconvert_exporter": "python",
   "pygments_lexer": "ipython3",
   "version": "3.8.8"
  }
 },
 "nbformat": 4,
 "nbformat_minor": 5
}
