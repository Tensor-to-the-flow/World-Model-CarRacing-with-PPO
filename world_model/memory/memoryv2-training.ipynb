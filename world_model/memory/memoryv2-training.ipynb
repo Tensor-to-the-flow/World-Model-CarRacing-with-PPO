{
 "cells": [
  {
   "cell_type": "code",
   "execution_count": 46,
   "id": "turkish-december",
   "metadata": {},
   "outputs": [],
   "source": [
    "import os\n",
    "import sys\n",
    "module_path = os.path.abspath(os.path.join('..'))\n",
    "if module_path not in sys.path:\n",
    "    sys.path.append(module_path)\n",
    "\n",
    "from controller.ppo_wm import Agent\n",
    "from vision.vAE import VAE\n",
    "from data.car_racing import CarRacingWrapper\n",
    "from memory_v2 import Memory\n",
    "import numpy as np\n",
    "import tensorflow as tf"
   ]
  },
  {
   "cell_type": "markdown",
   "id": "returning-penny",
   "metadata": {},
   "source": [
    "### Understanding **tf.element_spec**"
   ]
  },
  {
   "cell_type": "code",
   "execution_count": 2,
   "id": "understanding-morning",
   "metadata": {},
   "outputs": [
    {
     "data": {
      "text/plain": [
       "(TensorSpec(shape=(35,), dtype=tf.float32, name=None),\n",
       " TensorSpec(shape=(32,), dtype=tf.float32, name=None))"
      ]
     },
     "execution_count": 2,
     "metadata": {},
     "output_type": "execute_result"
    }
   ],
   "source": [
    "dummy = tf.data.Dataset.from_tensor_slices(\n",
    "    (np.zeros(999*35).reshape(999,35).astype(np.float32), np.zeros(999*32).reshape(999,32).astype(np.float32))\n",
    ")\n",
    "dummy.element_spec"
   ]
  },
  {
   "cell_type": "code",
   "execution_count": 3,
   "id": "mental-ocean",
   "metadata": {},
   "outputs": [],
   "source": [
    "t_spec = dummy.element_spec"
   ]
  },
  {
   "cell_type": "code",
   "execution_count": 4,
   "id": "sixth-apartment",
   "metadata": {},
   "outputs": [
    {
     "data": {
      "text/plain": [
       "<_LoadDataset shapes: ((999, 35), (999, 32)), types: (tf.float32, tf.float32)>"
      ]
     },
     "execution_count": 4,
     "metadata": {},
     "output_type": "execute_result"
    }
   ],
   "source": [
    "ds = tf.data.experimental.load(\n",
    "    os.getcwd() + '/saved_data/z_vae160',\n",
    "    compression='GZIP',\n",
    "    element_spec=(tf.TensorSpec(shape=(999, 35), dtype=tf.float32), tf.TensorSpec(shape=(999, 32), dtype=tf.float32))\n",
    ")\n",
    "ds"
   ]
  },
  {
   "cell_type": "code",
   "execution_count": 5,
   "id": "certain-surfing",
   "metadata": {},
   "outputs": [],
   "source": [
    "ds = ds.shuffle(1).batch(4).prefetch(tf.data.experimental.AUTOTUNE)"
   ]
  },
  {
   "cell_type": "code",
   "execution_count": 6,
   "id": "convinced-premises",
   "metadata": {},
   "outputs": [
    {
     "data": {
      "text/plain": [
       "63"
      ]
     },
     "execution_count": 6,
     "metadata": {},
     "output_type": "execute_result"
    }
   ],
   "source": [
    "len(ds)"
   ]
  },
  {
   "cell_type": "code",
   "execution_count": 7,
   "id": "bright-flash",
   "metadata": {},
   "outputs": [],
   "source": [
    "ds = ds.map(lambda x, y: (tf.cast(x, tf.float64), tf.cast(y, tf.float64)))"
   ]
  },
  {
   "cell_type": "code",
   "execution_count": 8,
   "id": "instrumental-integration",
   "metadata": {},
   "outputs": [],
   "source": [
    "import time\n",
    "\n",
    "def train(model, data, epochs):\n",
    "    epoch_losses = []\n",
    "    for e in range(epochs):\n",
    "        t = time.time()\n",
    "        batch_losses = []\n",
    "        data = data.shuffle(1)\n",
    "        \n",
    "        for (x, y) in data.take(20):\n",
    "            state = model.get_zero_hidden_state(x)\n",
    "            batch_losses.append(model.train_op(x, y, state))\n",
    "            \n",
    "        epoch_losses.append(np.mean(batch_losses))\n",
    "        print(f\"Epoch: {e} done - Loss: {epoch_losses[-1]} - Time: {time.time()-t}\")\n",
    "        \n",
    "    #model.save(os.getcwd() + '/160model_v2')\n",
    "        \n",
    "    return batch_losses"
   ]
  },
  {
   "cell_type": "code",
   "execution_count": 9,
   "id": "critical-amsterdam",
   "metadata": {},
   "outputs": [],
   "source": [
    "mem = Memory()\n",
    "loss = []"
   ]
  },
  {
   "cell_type": "code",
   "execution_count": 11,
   "id": "expensive-venezuela",
   "metadata": {},
   "outputs": [
    {
     "name": "stdout",
     "output_type": "stream",
     "text": [
      "Epoch: 0 done - Loss: 37.09749748335051 - Time: 378.0763189792633\n"
     ]
    }
   ],
   "source": [
    "loss.append(train(mem, ds, 1))"
   ]
  },
  {
   "cell_type": "markdown",
   "id": "surface-cycling",
   "metadata": {},
   "source": [
    "## Visualizing performance"
   ]
  },
  {
   "cell_type": "code",
   "execution_count": 12,
   "id": "arbitrary-above",
   "metadata": {},
   "outputs": [],
   "source": [
    "import matplotlib.pyplot as plt"
   ]
  },
  {
   "cell_type": "code",
   "execution_count": 14,
   "id": "general-music",
   "metadata": {},
   "outputs": [
    {
     "name": "stdout",
     "output_type": "stream",
     "text": [
      "loading model from /Users/floyd/Documents/Studium/Coxi6/DRL/World-Model-CarRacing-with-PPO/world_model/vision/models\n"
     ]
    }
   ],
   "source": [
    "vision = VAE(results_dir=os.getcwd()[:-6] + 'vision', load_model=True)"
   ]
  },
  {
   "cell_type": "code",
   "execution_count": 33,
   "id": "chemical-repository",
   "metadata": {},
   "outputs": [],
   "source": [
    "def dream(memory, n=2):\n",
    "    fig, ax = plt.subplots(ncols=2, nrows=n)\n",
    "\n",
    "    for i, (x, y) in enumerate(ds.take(n)):\n",
    "        \n",
    "        x = x.numpy()\n",
    "        \n",
    "        state = memory.get_zero_hidden_state(x)\n",
    "        mix_params, _, _ = memory(x, state)\n",
    "        pred = memory.get_y_pred(mix_params)\n",
    "        \n",
    "        ax[i, 0].imshow(tf.squeeze(vision.decoder(pred[0,0])))\n",
    "        ax[i, 0].set_title(\"Dream\")\n",
    "        ax[i, 0].axis(\"off\")\n",
    "        \n",
    "        ax[i, 1].imshow(tf.squeeze(vision.decoder(y.numpy()[0,0].reshape(1,32))))\n",
    "        ax[i, 1].set_title(\"Truth\")\n",
    "        ax[i, 1].axis(\"off\")\n",
    "\n",
    "    plt.show()"
   ]
  },
  {
   "cell_type": "code",
   "execution_count": 36,
   "id": "varying-frame",
   "metadata": {},
   "outputs": [
    {
     "data": {
      "image/png": "[encoded data removed]",
      "text/plain": [
       "<Figure size 432x288 with 4 Axes>"
      ]
     },
     "metadata": {
      "needs_background": "light"
     },
     "output_type": "display_data"
    }
   ],
   "source": [
    "dream(mem)"
   ]
  },
  {
   "cell_type": "markdown",
   "id": "occupied-terrain",
   "metadata": {},
   "source": [
    "# An attempt to train on memory_v2"
   ]
  },
  {
   "cell_type": "code",
   "execution_count": 53,
   "id": "remarkable-statistics",
   "metadata": {},
   "outputs": [],
   "source": [
    "from collections import defaultdict\n",
    "def train_controller(controller, vision, memory, collect_data=True, episode_length=1000, render=False):\n",
    "    \"\"\" runs a single episode \"\"\"\n",
    "    #  needs to be imported here for multiprocessing\n",
    "\n",
    "    state = memory.get_zero_hidden_state(\n",
    "        np.zeros(35).reshape(1, 1, 35)\n",
    "    )\n",
    "\n",
    "    total_reward = 0\n",
    "    data = defaultdict(list)\n",
    "    obs = controller.env.reset()\n",
    "\n",
    "    for step in range(episode_length):\n",
    "        if render:\n",
    "            controller.env.render(\"human\")\n",
    "        obs = obs.reshape(1, 64, 64, 1).astype(np.float32)\n",
    "        # Collecting mu and logvar for data collection\n",
    "        mu, logvar = vision.encode(obs)\n",
    "        z = vision.reparameterize(mu, logvar)\n",
    "        # encoded obs plus hidden state from memory --> controller input\n",
    "        z_state = np.concatenate([z, state], axis=None)\n",
    "        print(z_state.shape)\n",
    "        #action = controller.actor.get_action(z_state)\n",
    "        action = controller.env.action_space.sample()\n",
    "        obs, reward, done, _ = env.step(action)\n",
    "\n",
    "        action = tf.cast(action, tf.float64)\n",
    "        x = tf.concat([\n",
    "            tf.reshape(z, (1, 1, 32)),\n",
    "            tf.reshape(action, (1, 1, 3))\n",
    "        ], axis=2)\n",
    "        # state :: hidden_state (,256) & cell_state (,256)\n",
    "        # Shouldnt it be hidden_state and prediction of new state space z? (Mixture-ouput y)?\n",
    "        # NOOO we dont use the pred_z (y) for training the controller\n",
    "        y, h_state, c_state = memory(x, tf.cast(state, tf.float64), temperature=1.0)\n",
    "\n",
    "        # Why is c_state part of the state that gets feed into the controller?\n",
    "        #  Only plausible if c_state == latent space of\n",
    "        state = [h_state, c_state]\n",
    "        total_reward += reward\n",
    "\n",
    "        if done:\n",
    "            print('done at {} - reward {}'.format(step, reward))\n",
    "            break\n",
    "\n",
    "        if collect_data:\n",
    "            reconstruct = vision.decoder(z)\n",
    "            vae_loss = vision.loss(reconstruct)\n",
    "            data['observation'].append(obs)\n",
    "            data['latent'].append(np.squeeze(z))\n",
    "            data['reconstruct'].append(np.squeeze(reconstruct))\n",
    "            data['reconstruction-loss'].append(vae_loss['reconstruction-loss']),\n",
    "            data['unclipped-kl-loss'].append(vae_loss['unclipped-kl-loss'])\n",
    "            data['action'].append(action)\n",
    "            data['mu'].append(mu)\n",
    "            data['logvar'].append(logvar)\n",
    "            data['pred-latent'].append(y)\n",
    "            data['pred-reconstruct'].append(np.squeeze(vision.decode(y.reshape(1, 32))))\n",
    "            data['total-reward'].append(total_reward)\n",
    "\n",
    "    env.close()\n",
    "    return total_reward, data\n"
   ]
  },
  {
   "cell_type": "code",
   "execution_count": 50,
   "id": "about-munich",
   "metadata": {},
   "outputs": [
    {
     "name": "stdout",
     "output_type": "stream",
     "text": [
      "loading model from /Users/floyd/Documents/Studium/Coxi6/DRL/World-Model-CarRacing-with-PPO/world_model/vision/models\n"
     ]
    }
   ],
   "source": [
    "env = CarRacingWrapper()\n",
    "controller = Agent(env)\n",
    "vision = VAE(load_model=True, results_dir=os.getcwd()[:-6] + 'vision')"
   ]
  },
  {
   "cell_type": "code",
   "execution_count": 54,
   "id": "modified-rover",
   "metadata": {},
   "outputs": [
    {
     "name": "stdout",
     "output_type": "stream",
     "text": [
      "Track generation: 1144..1434 -> 290-tiles track\n",
      "(544,)\n"
     ]
    },
    {
     "ename": "InvalidArgumentError",
     "evalue": "Input to reshape is a tensor with 35 values, but the requested shape has 34965 [Op:Reshape]",
     "output_type": "error",
     "traceback": [
      "\u001b[0;31m---------------------------------------------------------------------------\u001b[0m",
      "\u001b[0;31mInvalidArgumentError\u001b[0m                      Traceback (most recent call last)",
      "\u001b[0;32m<ipython-input-54-68e3afd7bea4>\u001b[0m in \u001b[0;36m<module>\u001b[0;34m\u001b[0m\n\u001b[0;32m----> 1\u001b[0;31m \u001b[0mr\u001b[0m\u001b[0;34m,\u001b[0m \u001b[0md\u001b[0m \u001b[0;34m=\u001b[0m \u001b[0mtrain_controller\u001b[0m\u001b[0;34m(\u001b[0m\u001b[0mcontroller\u001b[0m\u001b[0;34m,\u001b[0m \u001b[0mvision\u001b[0m\u001b[0;34m,\u001b[0m \u001b[0mmem\u001b[0m\u001b[0;34m,\u001b[0m \u001b[0mcollect_data\u001b[0m\u001b[0;34m=\u001b[0m\u001b[0;32mFalse\u001b[0m\u001b[0;34m)\u001b[0m\u001b[0;34m\u001b[0m\u001b[0;34m\u001b[0m\u001b[0m\n\u001b[0m\u001b[1;32m      2\u001b[0m \u001b[0mprint\u001b[0m\u001b[0;34m(\u001b[0m\u001b[0mr\u001b[0m\u001b[0;34m)\u001b[0m\u001b[0;34m\u001b[0m\u001b[0;34m\u001b[0m\u001b[0m\n",
      "\u001b[0;32m<ipython-input-53-2329563f7816>\u001b[0m in \u001b[0;36mtrain_controller\u001b[0;34m(controller, vision, memory, collect_data, episode_length, render)\u001b[0m\n\u001b[1;32m     34\u001b[0m         \u001b[0;31m# Shouldnt it be hidden_state and prediction of new state space z? (Mixture-ouput y)?\u001b[0m\u001b[0;34m\u001b[0m\u001b[0;34m\u001b[0m\u001b[0;34m\u001b[0m\u001b[0m\n\u001b[1;32m     35\u001b[0m         \u001b[0;31m# NOOO we dont use the pred_z (y) for training the controller\u001b[0m\u001b[0;34m\u001b[0m\u001b[0;34m\u001b[0m\u001b[0;34m\u001b[0m\u001b[0m\n\u001b[0;32m---> 36\u001b[0;31m         \u001b[0my\u001b[0m\u001b[0;34m,\u001b[0m \u001b[0mh_state\u001b[0m\u001b[0;34m,\u001b[0m \u001b[0mc_state\u001b[0m \u001b[0;34m=\u001b[0m \u001b[0mmemory\u001b[0m\u001b[0;34m(\u001b[0m\u001b[0mx\u001b[0m\u001b[0;34m,\u001b[0m \u001b[0mtf\u001b[0m\u001b[0;34m.\u001b[0m\u001b[0mcast\u001b[0m\u001b[0;34m(\u001b[0m\u001b[0mstate\u001b[0m\u001b[0;34m,\u001b[0m \u001b[0mtf\u001b[0m\u001b[0;34m.\u001b[0m\u001b[0mfloat64\u001b[0m\u001b[0;34m)\u001b[0m\u001b[0;34m,\u001b[0m \u001b[0mtemperature\u001b[0m\u001b[0;34m=\u001b[0m\u001b[0;36m1.0\u001b[0m\u001b[0;34m)\u001b[0m\u001b[0;34m\u001b[0m\u001b[0;34m\u001b[0m\u001b[0m\n\u001b[0m\u001b[1;32m     37\u001b[0m \u001b[0;34m\u001b[0m\u001b[0m\n\u001b[1;32m     38\u001b[0m         \u001b[0;31m# Why is c_state part of the state that gets feed into the controller?\u001b[0m\u001b[0;34m\u001b[0m\u001b[0;34m\u001b[0m\u001b[0;34m\u001b[0m\u001b[0m\n",
      "\u001b[0;32m~/anaconda3/envs/ReAllY/lib/python3.8/site-packages/tensorflow/python/keras/engine/base_layer.py\u001b[0m in \u001b[0;36m__call__\u001b[0;34m(self, *args, **kwargs)\u001b[0m\n\u001b[1;32m   1010\u001b[0m         with autocast_variable.enable_auto_cast_variables(\n\u001b[1;32m   1011\u001b[0m             self._compute_dtype_object):\n\u001b[0;32m-> 1012\u001b[0;31m           \u001b[0moutputs\u001b[0m \u001b[0;34m=\u001b[0m \u001b[0mcall_fn\u001b[0m\u001b[0;34m(\u001b[0m\u001b[0minputs\u001b[0m\u001b[0;34m,\u001b[0m \u001b[0;34m*\u001b[0m\u001b[0margs\u001b[0m\u001b[0;34m,\u001b[0m \u001b[0;34m**\u001b[0m\u001b[0mkwargs\u001b[0m\u001b[0;34m)\u001b[0m\u001b[0;34m\u001b[0m\u001b[0;34m\u001b[0m\u001b[0m\n\u001b[0m\u001b[1;32m   1013\u001b[0m \u001b[0;34m\u001b[0m\u001b[0m\n\u001b[1;32m   1014\u001b[0m         \u001b[0;32mif\u001b[0m \u001b[0mself\u001b[0m\u001b[0;34m.\u001b[0m\u001b[0m_activity_regularizer\u001b[0m\u001b[0;34m:\u001b[0m\u001b[0;34m\u001b[0m\u001b[0;34m\u001b[0m\u001b[0m\n",
      "\u001b[0;32m~/Documents/Studium/Coxi6/DRL/World-Model-CarRacing-with-PPO/world_model/memory/memory_v2.py\u001b[0m in \u001b[0;36mcall\u001b[0;34m(self, inputs, state, temperature)\u001b[0m\n\u001b[1;32m    104\u001b[0m         \u001b[0;31m# inputs shape=(batch_size,num_timesteps=1,input_dim)\u001b[0m\u001b[0;34m\u001b[0m\u001b[0;34m\u001b[0m\u001b[0;34m\u001b[0m\u001b[0m\n\u001b[1;32m    105\u001b[0m         \u001b[0;31m# single timestep processing per call with input\u001b[0m\u001b[0;34m\u001b[0m\u001b[0;34m\u001b[0m\u001b[0;34m\u001b[0m\u001b[0m\n\u001b[0;32m--> 106\u001b[0;31m         \u001b[0minputs\u001b[0m \u001b[0;34m=\u001b[0m \u001b[0mtf\u001b[0m\u001b[0;34m.\u001b[0m\u001b[0mreshape\u001b[0m\u001b[0;34m(\u001b[0m\u001b[0minputs\u001b[0m\u001b[0;34m,\u001b[0m \u001b[0;34m(\u001b[0m\u001b[0minputs\u001b[0m\u001b[0;34m.\u001b[0m\u001b[0mshape\u001b[0m\u001b[0;34m[\u001b[0m\u001b[0;36m0\u001b[0m\u001b[0;34m]\u001b[0m\u001b[0;34m,\u001b[0m \u001b[0mself\u001b[0m\u001b[0;34m.\u001b[0m\u001b[0mnum_timesteps\u001b[0m\u001b[0;34m,\u001b[0m \u001b[0mself\u001b[0m\u001b[0;34m.\u001b[0m\u001b[0minput_dim\u001b[0m\u001b[0;34m)\u001b[0m\u001b[0;34m)\u001b[0m\u001b[0;34m\u001b[0m\u001b[0;34m\u001b[0m\u001b[0m\n\u001b[0m\u001b[1;32m    107\u001b[0m \u001b[0;34m\u001b[0m\u001b[0m\n\u001b[1;32m    108\u001b[0m         \u001b[0mself\u001b[0m\u001b[0;34m.\u001b[0m\u001b[0minitial_state\u001b[0m \u001b[0;34m=\u001b[0m \u001b[0mstate\u001b[0m\u001b[0;34m\u001b[0m\u001b[0;34m\u001b[0m\u001b[0m\n",
      "\u001b[0;32m~/anaconda3/envs/ReAllY/lib/python3.8/site-packages/tensorflow/python/util/dispatch.py\u001b[0m in \u001b[0;36mwrapper\u001b[0;34m(*args, **kwargs)\u001b[0m\n\u001b[1;32m    199\u001b[0m     \u001b[0;34m\"\"\"Call target, and fall back on dispatchers if there is a TypeError.\"\"\"\u001b[0m\u001b[0;34m\u001b[0m\u001b[0;34m\u001b[0m\u001b[0m\n\u001b[1;32m    200\u001b[0m     \u001b[0;32mtry\u001b[0m\u001b[0;34m:\u001b[0m\u001b[0;34m\u001b[0m\u001b[0;34m\u001b[0m\u001b[0m\n\u001b[0;32m--> 201\u001b[0;31m       \u001b[0;32mreturn\u001b[0m \u001b[0mtarget\u001b[0m\u001b[0;34m(\u001b[0m\u001b[0;34m*\u001b[0m\u001b[0margs\u001b[0m\u001b[0;34m,\u001b[0m \u001b[0;34m**\u001b[0m\u001b[0mkwargs\u001b[0m\u001b[0;34m)\u001b[0m\u001b[0;34m\u001b[0m\u001b[0;34m\u001b[0m\u001b[0m\n\u001b[0m\u001b[1;32m    202\u001b[0m     \u001b[0;32mexcept\u001b[0m \u001b[0;34m(\u001b[0m\u001b[0mTypeError\u001b[0m\u001b[0;34m,\u001b[0m \u001b[0mValueError\u001b[0m\u001b[0;34m)\u001b[0m\u001b[0;34m:\u001b[0m\u001b[0;34m\u001b[0m\u001b[0;34m\u001b[0m\u001b[0m\n\u001b[1;32m    203\u001b[0m       \u001b[0;31m# Note: convert_to_eager_tensor currently raises a ValueError, not a\u001b[0m\u001b[0;34m\u001b[0m\u001b[0;34m\u001b[0m\u001b[0;34m\u001b[0m\u001b[0m\n",
      "\u001b[0;32m~/anaconda3/envs/ReAllY/lib/python3.8/site-packages/tensorflow/python/ops/array_ops.py\u001b[0m in \u001b[0;36mreshape\u001b[0;34m(tensor, shape, name)\u001b[0m\n\u001b[1;32m    193\u001b[0m     \u001b[0mA\u001b[0m\u001b[0;31m \u001b[0m\u001b[0;31m`\u001b[0m\u001b[0mTensor\u001b[0m\u001b[0;31m`\u001b[0m\u001b[0;34m.\u001b[0m \u001b[0mHas\u001b[0m \u001b[0mthe\u001b[0m \u001b[0msame\u001b[0m \u001b[0mtype\u001b[0m \u001b[0;32mas\u001b[0m\u001b[0;31m \u001b[0m\u001b[0;31m`\u001b[0m\u001b[0mtensor\u001b[0m\u001b[0;31m`\u001b[0m\u001b[0;34m.\u001b[0m\u001b[0;34m\u001b[0m\u001b[0;34m\u001b[0m\u001b[0m\n\u001b[1;32m    194\u001b[0m   \"\"\"\n\u001b[0;32m--> 195\u001b[0;31m   \u001b[0mresult\u001b[0m \u001b[0;34m=\u001b[0m \u001b[0mgen_array_ops\u001b[0m\u001b[0;34m.\u001b[0m\u001b[0mreshape\u001b[0m\u001b[0;34m(\u001b[0m\u001b[0mtensor\u001b[0m\u001b[0;34m,\u001b[0m \u001b[0mshape\u001b[0m\u001b[0;34m,\u001b[0m \u001b[0mname\u001b[0m\u001b[0;34m)\u001b[0m\u001b[0;34m\u001b[0m\u001b[0;34m\u001b[0m\u001b[0m\n\u001b[0m\u001b[1;32m    196\u001b[0m   \u001b[0mtensor_util\u001b[0m\u001b[0;34m.\u001b[0m\u001b[0mmaybe_set_static_shape\u001b[0m\u001b[0;34m(\u001b[0m\u001b[0mresult\u001b[0m\u001b[0;34m,\u001b[0m \u001b[0mshape\u001b[0m\u001b[0;34m)\u001b[0m\u001b[0;34m\u001b[0m\u001b[0;34m\u001b[0m\u001b[0m\n\u001b[1;32m    197\u001b[0m   \u001b[0;32mreturn\u001b[0m \u001b[0mresult\u001b[0m\u001b[0;34m\u001b[0m\u001b[0;34m\u001b[0m\u001b[0m\n",
      "\u001b[0;32m~/anaconda3/envs/ReAllY/lib/python3.8/site-packages/tensorflow/python/ops/gen_array_ops.py\u001b[0m in \u001b[0;36mreshape\u001b[0;34m(tensor, shape, name)\u001b[0m\n\u001b[1;32m   8370\u001b[0m       \u001b[0;32mpass\u001b[0m\u001b[0;34m\u001b[0m\u001b[0;34m\u001b[0m\u001b[0m\n\u001b[1;32m   8371\u001b[0m     \u001b[0;32mtry\u001b[0m\u001b[0;34m:\u001b[0m\u001b[0;34m\u001b[0m\u001b[0;34m\u001b[0m\u001b[0m\n\u001b[0;32m-> 8372\u001b[0;31m       return reshape_eager_fallback(\n\u001b[0m\u001b[1;32m   8373\u001b[0m           tensor, shape, name=name, ctx=_ctx)\n\u001b[1;32m   8374\u001b[0m     \u001b[0;32mexcept\u001b[0m \u001b[0m_core\u001b[0m\u001b[0;34m.\u001b[0m\u001b[0m_SymbolicException\u001b[0m\u001b[0;34m:\u001b[0m\u001b[0;34m\u001b[0m\u001b[0;34m\u001b[0m\u001b[0m\n",
      "\u001b[0;32m~/anaconda3/envs/ReAllY/lib/python3.8/site-packages/tensorflow/python/ops/gen_array_ops.py\u001b[0m in \u001b[0;36mreshape_eager_fallback\u001b[0;34m(tensor, shape, name, ctx)\u001b[0m\n\u001b[1;32m   8395\u001b[0m   \u001b[0m_inputs_flat\u001b[0m \u001b[0;34m=\u001b[0m \u001b[0;34m[\u001b[0m\u001b[0mtensor\u001b[0m\u001b[0;34m,\u001b[0m \u001b[0mshape\u001b[0m\u001b[0;34m]\u001b[0m\u001b[0;34m\u001b[0m\u001b[0;34m\u001b[0m\u001b[0m\n\u001b[1;32m   8396\u001b[0m   \u001b[0m_attrs\u001b[0m \u001b[0;34m=\u001b[0m \u001b[0;34m(\u001b[0m\u001b[0;34m\"T\"\u001b[0m\u001b[0;34m,\u001b[0m \u001b[0m_attr_T\u001b[0m\u001b[0;34m,\u001b[0m \u001b[0;34m\"Tshape\"\u001b[0m\u001b[0;34m,\u001b[0m \u001b[0m_attr_Tshape\u001b[0m\u001b[0;34m)\u001b[0m\u001b[0;34m\u001b[0m\u001b[0;34m\u001b[0m\u001b[0m\n\u001b[0;32m-> 8397\u001b[0;31m   _result = _execute.execute(b\"Reshape\", 1, inputs=_inputs_flat, attrs=_attrs,\n\u001b[0m\u001b[1;32m   8398\u001b[0m                              ctx=ctx, name=name)\n\u001b[1;32m   8399\u001b[0m   \u001b[0;32mif\u001b[0m \u001b[0m_execute\u001b[0m\u001b[0;34m.\u001b[0m\u001b[0mmust_record_gradient\u001b[0m\u001b[0;34m(\u001b[0m\u001b[0;34m)\u001b[0m\u001b[0;34m:\u001b[0m\u001b[0;34m\u001b[0m\u001b[0;34m\u001b[0m\u001b[0m\n",
      "\u001b[0;32m~/anaconda3/envs/ReAllY/lib/python3.8/site-packages/tensorflow/python/eager/execute.py\u001b[0m in \u001b[0;36mquick_execute\u001b[0;34m(op_name, num_outputs, inputs, attrs, ctx, name)\u001b[0m\n\u001b[1;32m     57\u001b[0m   \u001b[0;32mtry\u001b[0m\u001b[0;34m:\u001b[0m\u001b[0;34m\u001b[0m\u001b[0;34m\u001b[0m\u001b[0m\n\u001b[1;32m     58\u001b[0m     \u001b[0mctx\u001b[0m\u001b[0;34m.\u001b[0m\u001b[0mensure_initialized\u001b[0m\u001b[0;34m(\u001b[0m\u001b[0;34m)\u001b[0m\u001b[0;34m\u001b[0m\u001b[0;34m\u001b[0m\u001b[0m\n\u001b[0;32m---> 59\u001b[0;31m     tensors = pywrap_tfe.TFE_Py_Execute(ctx._handle, device_name, op_name,\n\u001b[0m\u001b[1;32m     60\u001b[0m                                         inputs, attrs, num_outputs)\n\u001b[1;32m     61\u001b[0m   \u001b[0;32mexcept\u001b[0m \u001b[0mcore\u001b[0m\u001b[0;34m.\u001b[0m\u001b[0m_NotOkStatusException\u001b[0m \u001b[0;32mas\u001b[0m \u001b[0me\u001b[0m\u001b[0;34m:\u001b[0m\u001b[0;34m\u001b[0m\u001b[0;34m\u001b[0m\u001b[0m\n",
      "\u001b[0;31mInvalidArgumentError\u001b[0m: Input to reshape is a tensor with 35 values, but the requested shape has 34965 [Op:Reshape]"
     ]
    }
   ],
   "source": [
    "r, d = train_controller(controller, vision, mem, collect_data=False)\n",
    "print(r)"
   ]
  },
  {
   "cell_type": "code",
   "execution_count": null,
   "id": "wanted-american",
   "metadata": {},
   "outputs": [],
   "source": []
  }
 ],
 "metadata": {
  "kernelspec": {
   "display_name": "Python 3",
   "language": "python",
   "name": "python3"
  },
  "language_info": {
   "codemirror_mode": {
    "name": "ipython",
    "version": 3
   },
   "file_extension": ".py",
   "mimetype": "text/x-python",
   "name": "python",
   "nbconvert_exporter": "python",
   "pygments_lexer": "ipython3",
   "version": "3.8.8"
  }
 },
 "nbformat": 4,
 "nbformat_minor": 5
}
