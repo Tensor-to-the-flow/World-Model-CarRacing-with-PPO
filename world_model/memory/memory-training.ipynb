{
 "cells": [
  {
   "cell_type": "code",
   "execution_count": 49,
   "id": "graduate-fight",
   "metadata": {},
   "outputs": [],
   "source": [
    "import os\n",
    "import sys\n",
    "module_path = os.path.abspath(os.path.join('..'))\n",
    "if module_path not in sys.path:\n",
    "    sys.path.append(module_path)\n",
    "\n",
    "from controller.ppo_vanilla import Agent\n",
    "from vision.vAE import VAE\n",
    "from data.car_racing import CarRacingWrapper\n",
    "from memory import Memory\n",
    "import numpy as np\n",
    "import tensorflow as tf"
   ]
  },
  {
   "cell_type": "markdown",
   "id": "understood-connection",
   "metadata": {},
   "source": [
    "### Understanding **tf.element_spec**"
   ]
  },
  {
   "cell_type": "code",
   "execution_count": 2,
   "id": "southwest-jewel",
   "metadata": {},
   "outputs": [
    {
     "data": {
      "text/plain": [
       "(TensorSpec(shape=(35,), dtype=tf.float32, name=None),\n",
       " TensorSpec(shape=(32,), dtype=tf.float32, name=None))"
      ]
     },
     "execution_count": 2,
     "metadata": {},
     "output_type": "execute_result"
    }
   ],
   "source": [
    "dummy = tf.data.Dataset.from_tensor_slices(\n",
    "    (np.zeros(999*35).reshape(999,35).astype(np.float32), np.zeros(999*32).reshape(999,32).astype(np.float32))\n",
    ")\n",
    "dummy.element_spec"
   ]
  },
  {
   "cell_type": "code",
   "execution_count": 3,
   "id": "functioning-butter",
   "metadata": {},
   "outputs": [],
   "source": [
    "t_spec = dummy.element_spec"
   ]
  },
  {
   "cell_type": "code",
   "execution_count": 4,
   "id": "fourth-mainstream",
   "metadata": {},
   "outputs": [
    {
     "data": {
      "text/plain": [
       "<_LoadDataset shapes: ((999, 35), (999, 32)), types: (tf.float32, tf.float32)>"
      ]
     },
     "execution_count": 4,
     "metadata": {},
     "output_type": "execute_result"
    }
   ],
   "source": [
    "ds = tf.data.experimental.load(\n",
    "    os.getcwd() + '/saved_data/z_vae160',\n",
    "    compression='GZIP',\n",
    "    element_spec=(tf.TensorSpec(shape=(999, 35), dtype=tf.float32), tf.TensorSpec(shape=(999, 32), dtype=tf.float32))\n",
    ")\n",
    "ds"
   ]
  },
  {
   "cell_type": "code",
   "execution_count": 5,
   "id": "weekly-apparel",
   "metadata": {},
   "outputs": [
    {
     "data": {
      "text/plain": [
       "<PrefetchDataset shapes: ((None, 999, 35), (None, 999, 32)), types: (tf.float32, tf.float32)>"
      ]
     },
     "execution_count": 5,
     "metadata": {},
     "output_type": "execute_result"
    }
   ],
   "source": [
    "ds = ds.shuffle(1).batch(4).prefetch(tf.data.experimental.AUTOTUNE)\n",
    "ds"
   ]
  },
  {
   "cell_type": "code",
   "execution_count": 8,
   "id": "induced-checklist",
   "metadata": {},
   "outputs": [
    {
     "data": {
      "text/plain": [
       "63"
      ]
     },
     "execution_count": 8,
     "metadata": {},
     "output_type": "execute_result"
    }
   ],
   "source": [
    "len(ds)"
   ]
  },
  {
   "cell_type": "code",
   "execution_count": 7,
   "id": "following-swimming",
   "metadata": {},
   "outputs": [],
   "source": [
    "ds = ds.map(lambda x, y: (tf.cast(x, tf.float64), tf.cast(y, tf.float64)))"
   ]
  },
  {
   "cell_type": "code",
   "execution_count": 10,
   "id": "confident-small",
   "metadata": {},
   "outputs": [],
   "source": [
    "import time\n",
    "\n",
    "def train(model, data, epochs):\n",
    "    epoch_losses = []\n",
    "    for e in range(epochs):\n",
    "        t = time.time()\n",
    "        batch_losses = []\n",
    "        data = data.shuffle(1)\n",
    "        \n",
    "        for (x, y) in data.take(16):\n",
    "            state = model.get_zero_hidden_state(x)\n",
    "            batch_losses.append(model.train_op(x, y, state))\n",
    "            \n",
    "        epoch_losses.append(np.mean(batch_losses))\n",
    "        print(f\"Epoch: {e} done - Loss: {epoch_losses[-1]} - Time: {time.time()-t}\")\n",
    "\n",
    "    model.save_weights(os.getcwd() + '/160model_v2')\n",
    "        \n",
    "    return batch_losses"
   ]
  },
  {
   "cell_type": "code",
   "execution_count": 11,
   "id": "confused-observer",
   "metadata": {},
   "outputs": [],
   "source": [
    "mem = Memory()\n",
    "mem.load_weights(os.getcwd() + '/160model_v2')\n",
    "loss = []"
   ]
  },
  {
   "cell_type": "code",
   "execution_count": null,
   "id": "current-phrase",
   "metadata": {},
   "outputs": [],
   "source": [
    "loss.append(train(mem, ds, 16))\n",
    "print(loss[-1])"
   ]
  },
  {
   "cell_type": "markdown",
   "id": "hollywood-sauce",
   "metadata": {},
   "source": [
    "## Visualizing performance"
   ]
  },
  {
   "cell_type": "code",
   "execution_count": 17,
   "id": "rocky-sacramento",
   "metadata": {},
   "outputs": [],
   "source": [
    "import matplotlib.pyplot as plt"
   ]
  },
  {
   "cell_type": "code",
   "execution_count": 35,
   "id": "professional-sharp",
   "metadata": {},
   "outputs": [
    {
     "name": "stdout",
     "output_type": "stream",
     "text": [
      "loading model from /Users/floyd/Documents/Studium/Coxi6/DRL/World-Model-CarRacing-with-PPO/world_model/vision/models\n"
     ]
    }
   ],
   "source": [
    "vision = VAE(results_dir=os.getcwd()[:-6] + 'vision', load_model=True)"
   ]
  },
  {
   "cell_type": "code",
   "execution_count": 36,
   "id": "freelance-slide",
   "metadata": {},
   "outputs": [],
   "source": [
    "def dream(memory, n=2):\n",
    "    fig, ax = plt.subplots(ncols=2, nrows=n)\n",
    "\n",
    "    for i, (x, y) in enumerate(ds.take(n)):\n",
    "        \n",
    "        x = x.numpy()\n",
    "        x = tf.cast(x[0,0,:], tf.float64)\n",
    "        \n",
    "        state = memory.get_zero_hidden_state(x)\n",
    "        mix_params, _, _ = memory(x, state, temperature=1.0)\n",
    "        pred = memory.get_y_pred(mix_params)\n",
    "        \n",
    "        ax[i, 0].imshow(tf.squeeze(vision.decoder(pred[0,0])))\n",
    "        ax[i, 0].set_title(\"Dream\")\n",
    "        ax[i, 0].axis(\"off\")\n",
    "        \n",
    "        ax[i, 1].imshow(tf.squeeze(vision.decoder(y.numpy()[0,0].reshape(1,32))))\n",
    "        ax[i, 1].set_title(\"Truth\")\n",
    "        ax[i, 1].axis(\"off\")\n",
    "\n",
    "    plt.show()"
   ]
  },
  {
   "cell_type": "code",
   "execution_count": null,
   "id": "patent-escape",
   "metadata": {},
   "outputs": [],
   "source": [
    "dream(mem, n=2)"
   ]
  }
 ],
 "metadata": {
  "kernelspec": {
   "display_name": "Python 3",
   "language": "python",
   "name": "python3"
  },
  "language_info": {
   "codemirror_mode": {
    "name": "ipython",
    "version": 3
   },
   "file_extension": ".py",
   "mimetype": "text/x-python",
   "name": "python",
   "nbconvert_exporter": "python",
   "pygments_lexer": "ipython3",
   "version": "3.8.8"
  }
 },
 "nbformat": 4,
 "nbformat_minor": 5
}
