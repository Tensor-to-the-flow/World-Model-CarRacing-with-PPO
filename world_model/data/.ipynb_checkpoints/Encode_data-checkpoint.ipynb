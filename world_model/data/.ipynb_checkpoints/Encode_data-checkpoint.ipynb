{
 "cells": [
  {
   "cell_type": "markdown",
   "id": "tested-atmosphere",
   "metadata": {},
   "source": [
    "# Preparing data and training our memory on it"
   ]
  },
  {
   "cell_type": "code",
   "execution_count": 2,
   "id": "earlier-future",
   "metadata": {},
   "outputs": [],
   "source": [
    "import os\n",
    "import sys\n",
    "# Needed to import local package in .ipynb\n",
    "module_path = os.path.abspath(os.path.join('..'))\n",
    "if module_path not in sys.path:\n",
    "    sys.path.append(module_path)\n",
    "from vision.vAE import VAE\n",
    "import numpy as np\n",
    "import tensorflow as tf"
   ]
  },
  {
   "cell_type": "markdown",
   "id": "indonesian-tactics",
   "metadata": {},
   "source": [
    "## Loading random rollout data & preprocessing it"
   ]
  },
  {
   "cell_type": "code",
   "execution_count": 3,
   "id": "inappropriate-malaysia",
   "metadata": {},
   "outputs": [
    {
     "data": {
      "text/plain": [
       "(258, 1000, 1, 64, 64, 1)"
      ]
     },
     "execution_count": 3,
     "metadata": {},
     "output_type": "execute_result"
    }
   ],
   "source": [
    "# Load random rollout datasets\n",
    "path = os.getcwd()\n",
    "path = path[:-6] + 'data'\n",
    "state_data = np.load(path + '/rr_data_state.npz')['arr_0']\n",
    "action_data = np.load(path + '/rr_data_action.npz')['arr_0']\n",
    "state_data.shape"
   ]
  },
  {
   "cell_type": "code",
   "execution_count": 4,
   "id": "neutral-preservation",
   "metadata": {},
   "outputs": [
    {
     "data": {
      "text/plain": [
       "(258, 1000, 3)"
      ]
     },
     "execution_count": 4,
     "metadata": {},
     "output_type": "execute_result"
    }
   ],
   "source": [
    "action_data.shape"
   ]
  },
  {
   "cell_type": "code",
   "execution_count": 5,
   "id": "reliable-catch",
   "metadata": {},
   "outputs": [
    {
     "data": {
      "text/plain": [
       "250"
      ]
     },
     "execution_count": 5,
     "metadata": {},
     "output_type": "execute_result"
    }
   ],
   "source": [
    "# Cut them to have a round number\n",
    "state_data = state_data[:250]\n",
    "action_data = action_data[:250]\n",
    "len(state_data)"
   ]
  },
  {
   "cell_type": "code",
   "execution_count": 6,
   "id": "french-morocco",
   "metadata": {},
   "outputs": [
    {
     "name": "stdout",
     "output_type": "stream",
     "text": [
      "loading model from /Users/floyd/Documents/Studium/Coxi6/DRL/World-Model-CarRacing-with-PPO/world_model/vision/models\n"
     ]
    }
   ],
   "source": [
    "# Load up trained VAE\n",
    "v = VAE()\n",
    "_ = v(state_data[1,1,:,:,:,:])\n",
    "v.load(os.getcwd()[:-6] + 'vision')"
   ]
  },
  {
   "cell_type": "code",
   "execution_count": 7,
   "id": "elegant-conclusion",
   "metadata": {},
   "outputs": [
    {
     "data": {
      "text/plain": [
       "(250000, 1, 64, 64, 1)"
      ]
     },
     "execution_count": 7,
     "metadata": {},
     "output_type": "execute_result"
    }
   ],
   "source": [
    "# Reshape to feed into vae\n",
    "state_data_b = np.reshape(state_data, (1000*250,1, 64, 64, 1))\n",
    "state_data_b.shape"
   ]
  },
  {
   "cell_type": "markdown",
   "id": "emerging-ontario",
   "metadata": {},
   "source": [
    "## Turn states to latent space z-values"
   ]
  },
  {
   "cell_type": "code",
   "execution_count": 8,
   "id": "fitting-suicide",
   "metadata": {},
   "outputs": [
    {
     "data": {
      "text/plain": [
       "(250000, 1, 32)"
      ]
     },
     "execution_count": 8,
     "metadata": {},
     "output_type": "execute_result"
    }
   ],
   "source": [
    "# Turn the states into z_values\n",
    "z_values = []\n",
    "for data in state_data_b:\n",
    "    z_values.append(v.gen_z(data))\n",
    "z_values = np.asarray(z_values)\n",
    "z_values.shape"
   ]
  },
  {
   "cell_type": "markdown",
   "id": "insured-going",
   "metadata": {},
   "source": [
    "## Form fitting sequence input & target data for our memory"
   ]
  },
  {
   "cell_type": "code",
   "execution_count": 9,
   "id": "significant-factory",
   "metadata": {},
   "outputs": [
    {
     "data": {
      "text/plain": [
       "(250, 1000, 32)"
      ]
     },
     "execution_count": 9,
     "metadata": {},
     "output_type": "execute_result"
    }
   ],
   "source": [
    "# Reshaping back to rollout sequence format\n",
    "z = np.reshape(z_values, (250, 1000, 32))\n",
    "z.shape"
   ]
  },
  {
   "cell_type": "code",
   "execution_count": 10,
   "id": "defensive-staff",
   "metadata": {},
   "outputs": [
    {
     "data": {
      "text/plain": [
       "TensorShape([250, 999, 35])"
      ]
     },
     "execution_count": 10,
     "metadata": {},
     "output_type": "execute_result"
    }
   ],
   "source": [
    "# Creating the input tensor for the memory\n",
    "x = tf.concat((z[:,:-1,:], action_data[:,:-1,:]), axis=2)\n",
    "x.shape"
   ]
  },
  {
   "cell_type": "code",
   "execution_count": 11,
   "id": "alleged-policy",
   "metadata": {},
   "outputs": [
    {
     "data": {
      "text/plain": [
       "TensorShape([250, 999, 32])"
      ]
     },
     "execution_count": 11,
     "metadata": {},
     "output_type": "execute_result"
    }
   ],
   "source": [
    "# Creating the target tensor for the memory\n",
    "y = z[:,1:,:]\n",
    "y = tf.convert_to_tensor(y)\n",
    "y.shape"
   ]
  },
  {
   "cell_type": "code",
   "execution_count": 16,
   "id": "regular-journalism",
   "metadata": {},
   "outputs": [
    {
     "data": {
      "text/plain": [
       "<TensorSliceDataset shapes: ((999, 35), (999, 32)), types: (tf.float64, tf.float64)>"
      ]
     },
     "execution_count": 16,
     "metadata": {},
     "output_type": "execute_result"
    }
   ],
   "source": [
    "# Nice and neat in a dataset\n",
    "ds = tf.data.Dataset.from_tensor_slices((x, y))\n",
    "ds"
   ]
  },
  {
   "cell_type": "code",
   "execution_count": 17,
   "id": "unauthorized-pressing",
   "metadata": {},
   "outputs": [],
   "source": [
    "# Saving the current z-values, because loading and preprocessing takes time.\n",
    "# vae160 = we use z-values generated from a vae with loss::160\n",
    "tf.data.experimental.save(ds, os.getcwd() + '/saved_data/z_vae160', compression='GZIP')"
   ]
  }
 ],
 "metadata": {
  "kernelspec": {
   "display_name": "Python 3",
   "language": "python",
   "name": "python3"
  },
  "language_info": {
   "codemirror_mode": {
    "name": "ipython",
    "version": 3
   },
   "file_extension": ".py",
   "mimetype": "text/x-python",
   "name": "python",
   "nbconvert_exporter": "python",
   "pygments_lexer": "ipython3",
   "version": "3.8.8"
  }
 },
 "nbformat": 4,
 "nbformat_minor": 5
}
